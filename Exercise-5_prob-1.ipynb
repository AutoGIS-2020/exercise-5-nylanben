{
 "cells": [
  {
   "cell_type": "code",
   "execution_count": 33,
   "metadata": {},
   "outputs": [],
   "source": [
    "import pandas as pd\n",
    "import geopandas as gpd\n",
    "from shapely.geometry import Point, Polygon"
   ]
  },
  {
   "cell_type": "code",
   "execution_count": 37,
   "metadata": {},
   "outputs": [
    {
     "data": {
      "text/plain": [
       "<bound method NDFrame.head of               x          y   YKR_ID  \\\n",
       "0      381875.0  6697880.0  5785640   \n",
       "1      382125.0  6697880.0  5785641   \n",
       "2      382375.0  6697880.0  5785642   \n",
       "3      382625.0  6697880.0  5785643   \n",
       "4      381125.0  6697630.0  5787544   \n",
       "...         ...        ...      ...   \n",
       "13226  372875.0  6665630.0  6016698   \n",
       "13227  373125.0  6665630.0  6016699   \n",
       "13228  372375.0  6665380.0  6018252   \n",
       "13229  372625.0  6665380.0  6018253   \n",
       "13230  372875.0  6665380.0  6018254   \n",
       "\n",
       "                                                geometry  \n",
       "0      POLYGON ((2767221.646 8489079.101, 2766716.966...  \n",
       "1      POLYGON ((2767726.329 8489095.521, 2767221.646...  \n",
       "2      POLYGON ((2768231.014 8489111.905, 2767726.329...  \n",
       "3      POLYGON ((2768735.702 8489128.255, 2768231.014...  \n",
       "4      POLYGON ((2765724.126 8488524.149, 2765219.488...  \n",
       "...                                                  ...  \n",
       "13226  POLYGON ((2751309.438 8423552.441, 2750809.280...  \n",
       "13227  POLYGON ((2751809.598 8423569.752, 2751309.438...  \n",
       "13228  POLYGON ((2750326.491 8423016.744, 2749826.373...  \n",
       "13229  POLYGON ((2750826.612 8423034.120, 2750326.491...  \n",
       "13230  POLYGON ((2751326.735 8423051.462, 2750826.612...  \n",
       "\n",
       "[13231 rows x 4 columns]>"
      ]
     },
     "execution_count": 37,
     "metadata": {},
     "output_type": "execute_result"
    }
   ],
   "source": [
    "fp = r'HSL_stops.shp'\n",
    "bus_stops = gpd.read_file(fp)\n",
    "\n",
    "fp = r\"MetropAccess_YKR_grid_EurefFIN.shp\"\n",
    "grid = gpd.read_file(fp, sep=\";\")\n",
    "\n",
    "grid = grid.to_crs(epsg=3857)\n",
    "bus_stops = bus_stops.to_crs(crs=grid.crs)\n",
    "grid.head"
   ]
  },
  {
   "cell_type": "code",
   "execution_count": 38,
   "metadata": {},
   "outputs": [],
   "source": [
    "import matplotlib.pyplot as plt"
   ]
  },
  {
   "cell_type": "code",
   "execution_count": 105,
   "metadata": {},
   "outputs": [
    {
     "ename": "NameError",
     "evalue": "name '____' is not defined",
     "output_type": "error",
     "traceback": [
      "\u001b[0;31m---------------------------------------------------------------------------\u001b[0m",
      "\u001b[0;31mNameError\u001b[0m                                 Traceback (most recent call last)",
      "\u001b[0;32m<ipython-input-105-703d874da269>\u001b[0m in \u001b[0;36m<module>\u001b[0;34m\u001b[0m\n\u001b[1;32m     21\u001b[0m \u001b[0m__\u001b[0m\u001b[0;34m\u001b[0m\u001b[0;34m\u001b[0m\u001b[0m\n\u001b[1;32m     22\u001b[0m \u001b[0m___\u001b[0m\u001b[0;34m\u001b[0m\u001b[0;34m\u001b[0m\u001b[0m\n\u001b[0;32m---> 23\u001b[0;31m \u001b[0m____\u001b[0m\u001b[0;34m\u001b[0m\u001b[0;34m\u001b[0m\u001b[0m\n\u001b[0m",
      "\u001b[0;31mNameError\u001b[0m: name '____' is not defined"
     ]
    }
   ],
   "source": [
    "#grid.plot()\n",
    "#bus_stops.plot()\n",
    "import shapely.speedups\n",
    "shapely.speedups.enable()\n",
    "\n",
    "stops = bus_stops.convert_dtypes()\n",
    "stops[\"MUNICIPALITY\"] = stops[\"LYHYTTUNNU\"].str.slice(start=0, stop=1)\n",
    "\n",
    "fp = r\"finland_municipalities.shp\"\n",
    "cities = gpd.read_file(fp)\n",
    "array = [\"Helsinki\", \"Espoo\", \"Kauniainen\", \"Vantaa\"]\n",
    "PKS = cities.loc[cities['nimi'].isin(array)]\n",
    "\n",
    "\n",
    "#PKS = PKS.to_crs(crs=stops.crs)\n",
    "#PKS.reset_index(drop=True, inplace=True)\n",
    "\n",
    "#pip_mask = stops.within(PKS.at[0, 'geometry'])\n",
    "PKS.type\n",
    "_\n",
    "__\n",
    "___\n",
    "____:"
   ]
  },
  {
   "cell_type": "code",
   "execution_count": null,
   "metadata": {},
   "outputs": [],
   "source": []
  }
 ],
 "metadata": {
  "kernelspec": {
   "display_name": "Python 3",
   "language": "python",
   "name": "python3"
  },
  "language_info": {
   "codemirror_mode": {
    "name": "ipython",
    "version": 3
   },
   "file_extension": ".py",
   "mimetype": "text/x-python",
   "name": "python",
   "nbconvert_exporter": "python",
   "pygments_lexer": "ipython3",
   "version": "3.8.6"
  }
 },
 "nbformat": 4,
 "nbformat_minor": 4
}
